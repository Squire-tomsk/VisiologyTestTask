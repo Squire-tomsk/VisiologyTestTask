{
 "cells": [
  {
   "cell_type": "code",
   "execution_count": 1,
   "metadata": {
    "collapsed": false
   },
   "outputs": [
    {
     "name": "stderr",
     "output_type": "stream",
     "text": [
      "/Users/abuca/MachineLearning/anaconda/lib/python2.7/site-packages/matplotlib/font_manager.py:273: UserWarning: Matplotlib is building the font cache using fc-list. This may take a moment.\n",
      "  warnings.warn('Matplotlib is building the font cache using fc-list. This may take a moment.')\n"
     ]
    }
   ],
   "source": [
    "import numpy as np\n",
    "import pandas as pd\n",
    "import seaborn as sb\n",
    "from matplotlib import pyplot as plt\n",
    "from sklearn.ensemble import RandomForestClassifier\n",
    "%matplotlib inline"
   ]
  },
  {
   "cell_type": "code",
   "execution_count": 2,
   "metadata": {
    "collapsed": false
   },
   "outputs": [],
   "source": [
    "data = pd.read_csv('Appendicitis.csv',index_col='Index')"
   ]
  },
  {
   "cell_type": "code",
   "execution_count": 3,
   "metadata": {
    "collapsed": false
   },
   "outputs": [],
   "source": [
    "labels_description = {\n",
    "    'V1':'Выраженные боли в правой подвздошной области, бинарный',\n",
    "    'V2':'Боли более 48 часов, бинарный',\n",
    "    'V3':'Боли более 24 часов, бинарный',\n",
    "    'V4':'Боли более 12 часов, бинарный',\n",
    "    'V5':'Частота пульса менее 80 уд/мин, бинарный',\n",
    "    'V6':'Частота пульса менее 100 уд/мин, бинарный',\n",
    "    'V7':'Лейкоциты крови ниже 8 тыс. ед., бинарный',\n",
    "    'V8':'Лейкоциты крови ниже 14 тыс. ед., бинарный',\n",
    "    'V9':'Язык обложен, бинарный',\n",
    "    'V10':'Симптом Щеткина-Блюмберга выражен, бинарный',\n",
    "    'V11':'Симптом Ровзинга выражен, бинарный',\n",
    "    'V12':'Защитное мышечное напряжение выражено, бинарный',\n",
    "    'Type': 'Тип аппендицита (0 - отсутствует, 1 - гангренозный, 2 - флегмонозный, 3 - катаральный), категориальный'\n",
    "}"
   ]
  },
  {
   "cell_type": "markdown",
   "metadata": {},
   "source": [
    "Посмотрим на данные"
   ]
  },
  {
   "cell_type": "code",
   "execution_count": 4,
   "metadata": {
    "collapsed": false
   },
   "outputs": [
    {
     "data": {
      "text/html": [
       "<div>\n",
       "<table border=\"1\" class=\"dataframe\">\n",
       "  <thead>\n",
       "    <tr style=\"text-align: right;\">\n",
       "      <th></th>\n",
       "      <th>V1</th>\n",
       "      <th>V2</th>\n",
       "      <th>V3</th>\n",
       "      <th>V4</th>\n",
       "      <th>V5</th>\n",
       "      <th>V6</th>\n",
       "      <th>V7</th>\n",
       "      <th>V8</th>\n",
       "      <th>V9</th>\n",
       "      <th>V10</th>\n",
       "      <th>V11</th>\n",
       "      <th>V12</th>\n",
       "      <th>Type</th>\n",
       "    </tr>\n",
       "    <tr>\n",
       "      <th>Index</th>\n",
       "      <th></th>\n",
       "      <th></th>\n",
       "      <th></th>\n",
       "      <th></th>\n",
       "      <th></th>\n",
       "      <th></th>\n",
       "      <th></th>\n",
       "      <th></th>\n",
       "      <th></th>\n",
       "      <th></th>\n",
       "      <th></th>\n",
       "      <th></th>\n",
       "      <th></th>\n",
       "    </tr>\n",
       "  </thead>\n",
       "  <tbody>\n",
       "    <tr>\n",
       "      <th>1</th>\n",
       "      <td>1</td>\n",
       "      <td>0</td>\n",
       "      <td>0</td>\n",
       "      <td>1</td>\n",
       "      <td>1</td>\n",
       "      <td>1</td>\n",
       "      <td>0</td>\n",
       "      <td>1</td>\n",
       "      <td>1</td>\n",
       "      <td>1</td>\n",
       "      <td>0</td>\n",
       "      <td>1</td>\n",
       "      <td>1</td>\n",
       "    </tr>\n",
       "    <tr>\n",
       "      <th>2</th>\n",
       "      <td>1</td>\n",
       "      <td>0</td>\n",
       "      <td>1</td>\n",
       "      <td>1</td>\n",
       "      <td>0</td>\n",
       "      <td>1</td>\n",
       "      <td>0</td>\n",
       "      <td>1</td>\n",
       "      <td>1</td>\n",
       "      <td>1</td>\n",
       "      <td>0</td>\n",
       "      <td>1</td>\n",
       "      <td>1</td>\n",
       "    </tr>\n",
       "    <tr>\n",
       "      <th>3</th>\n",
       "      <td>1</td>\n",
       "      <td>0</td>\n",
       "      <td>0</td>\n",
       "      <td>1</td>\n",
       "      <td>1</td>\n",
       "      <td>1</td>\n",
       "      <td>0</td>\n",
       "      <td>0</td>\n",
       "      <td>1</td>\n",
       "      <td>1</td>\n",
       "      <td>1</td>\n",
       "      <td>1</td>\n",
       "      <td>1</td>\n",
       "    </tr>\n",
       "    <tr>\n",
       "      <th>4</th>\n",
       "      <td>1</td>\n",
       "      <td>0</td>\n",
       "      <td>1</td>\n",
       "      <td>1</td>\n",
       "      <td>0</td>\n",
       "      <td>0</td>\n",
       "      <td>1</td>\n",
       "      <td>1</td>\n",
       "      <td>1</td>\n",
       "      <td>0</td>\n",
       "      <td>1</td>\n",
       "      <td>1</td>\n",
       "      <td>1</td>\n",
       "    </tr>\n",
       "    <tr>\n",
       "      <th>5</th>\n",
       "      <td>1</td>\n",
       "      <td>0</td>\n",
       "      <td>0</td>\n",
       "      <td>1</td>\n",
       "      <td>0</td>\n",
       "      <td>1</td>\n",
       "      <td>0</td>\n",
       "      <td>1</td>\n",
       "      <td>1</td>\n",
       "      <td>1</td>\n",
       "      <td>1</td>\n",
       "      <td>0</td>\n",
       "      <td>1</td>\n",
       "    </tr>\n",
       "  </tbody>\n",
       "</table>\n",
       "</div>"
      ],
      "text/plain": [
       "       V1  V2  V3  V4  V5  V6  V7  V8  V9  V10  V11  V12  Type\n",
       "Index                                                         \n",
       "1       1   0   0   1   1   1   0   1   1    1    0    1     1\n",
       "2       1   0   1   1   0   1   0   1   1    1    0    1     1\n",
       "3       1   0   0   1   1   1   0   0   1    1    1    1     1\n",
       "4       1   0   1   1   0   0   1   1   1    0    1    1     1\n",
       "5       1   0   0   1   0   1   0   1   1    1    1    0     1"
      ]
     },
     "execution_count": 4,
     "metadata": {},
     "output_type": "execute_result"
    }
   ],
   "source": [
    "data.head(5)"
   ]
  },
  {
   "cell_type": "code",
   "execution_count": 5,
   "metadata": {
    "collapsed": false
   },
   "outputs": [
    {
     "name": "stdout",
     "output_type": "stream",
     "text": [
      "Type - Тип аппендицита (0 - отсутствует, 1 - гангренозный, 2 - флегмонозный, 3 - катаральный), категориальный\n",
      "V12 - Защитное мышечное напряжение выражено, бинарный\n",
      "V10 - Симптом Щеткина-Блюмберга выражен, бинарный\n",
      "V11 - Симптом Ровзинга выражен, бинарный\n",
      "V1 - Выраженные боли в правой подвздошной области, бинарный\n",
      "V2 - Боли более 48 часов, бинарный\n",
      "V3 - Боли более 24 часов, бинарный\n",
      "V4 - Боли более 12 часов, бинарный\n",
      "V5 - Частота пульса менее 80 уд/мин, бинарный\n",
      "V6 - Частота пульса менее 100 уд/мин, бинарный\n",
      "V7 - Лейкоциты крови ниже 8 тыс. ед., бинарный\n",
      "V8 - Лейкоциты крови ниже 14 тыс. ед., бинарный\n",
      "V9 - Язык обложен, бинарный\n"
     ]
    }
   ],
   "source": [
    "for (t,d) in labels_description.iteritems():\n",
    "    print t+' - '+d"
   ]
  },
  {
   "cell_type": "code",
   "execution_count": 6,
   "metadata": {
    "collapsed": false
   },
   "outputs": [
    {
     "name": "stdout",
     "output_type": "stream",
     "text": [
      "Количество признаков 13\n",
      "Количество объектов 103\n"
     ]
    }
   ],
   "source": [
    "print 'Количество признаков {0:d}'.format(data.shape[1])\n",
    "print 'Количество объектов {0:d}'.format(data.shape[0])"
   ]
  },
  {
   "cell_type": "markdown",
   "metadata": {},
   "source": [
    "Объектов довольно мало, следовательно стоит использовать простые модели."
   ]
  },
  {
   "cell_type": "code",
   "execution_count": 7,
   "metadata": {
    "collapsed": false
   },
   "outputs": [
    {
     "name": "stdout",
     "output_type": "stream",
     "text": [
      "Количество объектов с пропущенными данными 0\n"
     ]
    }
   ],
   "source": [
    "print 'Количество объектов с пропущенными данными {0:d}'.format(data.shape[0] - data.dropna().shape[0])"
   ]
  },
  {
   "cell_type": "code",
   "execution_count": 8,
   "metadata": {
    "collapsed": false,
    "scrolled": true
   },
   "outputs": [
    {
     "name": "stdout",
     "output_type": "stream",
     "text": [
      "Количество объектов без аппендицита 24\n",
      "Количество объектов с гангренозным аппендицитом 28\n",
      "Количество объектов с флегмонозным аппендицитом 25\n",
      "Количество объектов с катаральный аппендицитом 26\n"
     ]
    }
   ],
   "source": [
    "print 'Количество объектов без аппендицита {0:d}'.format(data.Type.value_counts()[0])\n",
    "print 'Количество объектов с гангренозным аппендицитом {0:d}'.format(data.Type.value_counts()[1])\n",
    "print 'Количество объектов с флегмонозным аппендицитом {0:d}'.format(data.Type.value_counts()[2])\n",
    "print 'Количество объектов с катаральный аппендицитом {0:d}'.format(data.Type.value_counts()[3])"
   ]
  },
  {
   "cell_type": "markdown",
   "metadata": {},
   "source": [
    "Выборка довольно сбалансированна. Нет смысла делать поправку на несбалансированность классов."
   ]
  },
  {
   "cell_type": "markdown",
   "metadata": {},
   "source": [
    "Построим гистограммы для каждого признака, это поможет визуально оценить их информативность."
   ]
  },
  {
   "cell_type": "code",
   "execution_count": 9,
   "metadata": {
    "collapsed": false,
    "scrolled": false
   },
   "outputs": [
    {
     "data": {
      "image/png": "[encoded data removed]",
      "text/plain": [
       "<matplotlib.figure.Figure at 0x10410d050>"
      ]
     },
     "metadata": {},
     "output_type": "display_data"
    },
    {
     "data": {
      "image/png": "[encoded data removed]",
      "text/plain": [
       "<matplotlib.figure.Figure at 0x1178a4890>"
      ]
     },
     "metadata": {},
     "output_type": "display_data"
    },
    {
     "data": {
      "image/png": "[encoded data removed]",
      "text/plain": [
       "<matplotlib.figure.Figure at 0x117c14f50>"
      ]
     },
     "metadata": {},
     "output_type": "display_data"
    },
    {
     "data": {
      "image/png": "[encoded data removed]",
      "text/plain": [
       "<matplotlib.figure.Figure at 0x117f367d0>"
      ]
     },
     "metadata": {},
     "output_type": "display_data"
    },
    {
     "data": {
      "image/png": "[encoded data removed]",
      "text/plain": [
       "<matplotlib.figure.Figure at 0x118264f90>"
      ]
     },
     "metadata": {},
     "output_type": "display_data"
    },
    {
     "data": {
      "image/png": "[encoded data removed]",
      "text/plain": [
       "<matplotlib.figure.Figure at 0x1185aeb50>"
      ]
     },
     "metadata": {},
     "output_type": "display_data"
    },
    {
     "data": {
      "image/png": "[encoded data removed]",
      "text/plain": [
       "<matplotlib.figure.Figure at 0x1190e0310>"
      ]
     },
     "metadata": {},
     "output_type": "display_data"
    },
    {
     "data": {
      "image/png": "[encoded data removed]",
      "text/plain": [
       "<matplotlib.figure.Figure at 0x119412cd0>"
      ]
     },
     "metadata": {},
     "output_type": "display_data"
    },
    {
     "data": {
      "image/png": "[encoded data removed]",
      "text/plain": [
       "<matplotlib.figure.Figure at 0x11962e850>"
      ]
     },
     "metadata": {},
     "output_type": "display_data"
    },
    {
     "data": {
      "image/png": "[encoded data removed]",
      "text/plain": [
       "<matplotlib.figure.Figure at 0x119973e90>"
      ]
     },
     "metadata": {},
     "output_type": "display_data"
    },
    {
     "data": {
      "image/png": "[encoded data removed]",
      "text/plain": [
       "<matplotlib.figure.Figure at 0x119c78b10>"
      ]
     },
     "metadata": {},
     "output_type": "display_data"
    },
    {
     "data": {
      "image/png": "[encoded data removed]",
      "text/plain": [
       "<matplotlib.figure.Figure at 0x11a0e8450>"
      ]
     },
     "metadata": {},
     "output_type": "display_data"
    }
   ],
   "source": [
    "for (t,d) in labels_description.items()[1:]:\n",
    "    data.hist(column=t,by=data['Type'], bins=2, figsize=(12,5))\n",
    "    plt.suptitle(t)"
   ]
  },
  {
   "cell_type": "markdown",
   "metadata": {
    "collapsed": true
   },
   "source": [
    "Рассмотрим корреляцию Мэтьюса для всех признаков. Выражают есть ли корреляция между возникновением аппендицита (любого типа) и признаками?"
   ]
  },
  {
   "cell_type": "code",
   "execution_count": 10,
   "metadata": {
    "collapsed": true
   },
   "outputs": [],
   "source": [
    "from sklearn.metrics import matthews_corrcoef\n",
    "from scipy.stats import chi2_contingency\n",
    "from statsmodels.sandbox.stats.multicomp import multipletests "
   ]
  },
  {
   "cell_type": "code",
   "execution_count": 11,
   "metadata": {
    "collapsed": true
   },
   "outputs": [],
   "source": [
    "def matthews_appendix_features_corr(feature_name):\n",
    "    feature_true_and_sick = data.query(feature_name+' == 1 & Type != 0').shape[0]\n",
    "    feature_false_and_sick = data.query(feature_name+' == 0 & Type != 0').shape[0]\n",
    "    feature_true_and_not_sick = data.query(feature_name+' == 1 & Type == 0').shape[0]\n",
    "    feature_false_and_not_sick = data.query(feature_name+' == 0 & Type == 0').shape[0]\n",
    "    sick = np.hstack((np.ones(feature_true_and_sick+feature_false_and_sick),\n",
    "                      np.zeros(feature_true_and_not_sick+feature_false_and_not_sick)))\n",
    "    feature = np.hstack((np.zeros(feature_true_and_sick),\n",
    "                         np.ones(feature_false_and_sick),\n",
    "                         np.zeros(feature_true_and_not_sick),\n",
    "                         np.ones(feature_false_and_not_sick)))\n",
    "    corr = matthews_corrcoef(sick,feature)\n",
    "    p = chi2_contingency([\n",
    "                         [feature_true_and_sick,\n",
    "                          feature_false_and_sick],\n",
    "                         [feature_true_and_not_sick,\n",
    "                          feature_false_and_not_sick]],\n",
    "                          correction=corr)[1]\n",
    "    return (corr,p)"
   ]
  },
  {
   "cell_type": "code",
   "execution_count": 12,
   "metadata": {
    "collapsed": false
   },
   "outputs": [],
   "source": [
    "matthews_correlations = pd.DataFrame(columns=['feature','description','correlation','p'])\n",
    "for i,feature in enumerate(labels_description.items()[1:]):\n",
    "    (corr,p) = matthews_appendix_features_corr(feature[0])\n",
    "    matthews_correlations.loc[i] = [feature[0],feature[1],corr,p]\n",
    "reject, p_corrected, a1, a2 = multipletests(matthews_correlations.p, \n",
    "                                            alpha = 0.05, \n",
    "                                            method = 'fdr_bh') \n",
    "matthews_correlations['p'] = p_corrected\n",
    "matthews_correlations['reject'] = reject"
   ]
  },
  {
   "cell_type": "code",
   "execution_count": 13,
   "metadata": {
    "collapsed": false
   },
   "outputs": [
    {
     "data": {
      "text/html": [
       "<div>\n",
       "<table border=\"1\" class=\"dataframe\">\n",
       "  <thead>\n",
       "    <tr style=\"text-align: right;\">\n",
       "      <th></th>\n",
       "      <th>feature</th>\n",
       "      <th>description</th>\n",
       "      <th>correlation</th>\n",
       "      <th>p</th>\n",
       "      <th>reject</th>\n",
       "    </tr>\n",
       "  </thead>\n",
       "  <tbody>\n",
       "    <tr>\n",
       "      <th>0</th>\n",
       "      <td>V12</td>\n",
       "      <td>Защитное мышечное напряжение выражено, бинарный</td>\n",
       "      <td>-0.601641</td>\n",
       "      <td>2.583200e-08</td>\n",
       "      <td>True</td>\n",
       "    </tr>\n",
       "    <tr>\n",
       "      <th>1</th>\n",
       "      <td>V10</td>\n",
       "      <td>Симптом Щеткина-Блюмберга выражен, бинарный</td>\n",
       "      <td>-0.651079</td>\n",
       "      <td>2.247595e-09</td>\n",
       "      <td>True</td>\n",
       "    </tr>\n",
       "    <tr>\n",
       "      <th>2</th>\n",
       "      <td>V11</td>\n",
       "      <td>Симптом Ровзинга выражен, бинарный</td>\n",
       "      <td>-0.583957</td>\n",
       "      <td>5.128163e-08</td>\n",
       "      <td>True</td>\n",
       "    </tr>\n",
       "    <tr>\n",
       "      <th>3</th>\n",
       "      <td>V1</td>\n",
       "      <td>Выраженные боли в правой подвздошной области, ...</td>\n",
       "      <td>-0.550359</td>\n",
       "      <td>2.153055e-07</td>\n",
       "      <td>True</td>\n",
       "    </tr>\n",
       "    <tr>\n",
       "      <th>4</th>\n",
       "      <td>V2</td>\n",
       "      <td>Боли более 48 часов, бинарный</td>\n",
       "      <td>0.461045</td>\n",
       "      <td>1.974556e-05</td>\n",
       "      <td>True</td>\n",
       "    </tr>\n",
       "    <tr>\n",
       "      <th>5</th>\n",
       "      <td>V3</td>\n",
       "      <td>Боли более 24 часов, бинарный</td>\n",
       "      <td>0.574318</td>\n",
       "      <td>7.106811e-08</td>\n",
       "      <td>True</td>\n",
       "    </tr>\n",
       "    <tr>\n",
       "      <th>6</th>\n",
       "      <td>V4</td>\n",
       "      <td>Боли более 12 часов, бинарный</td>\n",
       "      <td>0.261527</td>\n",
       "      <td>1.966697e-02</td>\n",
       "      <td>True</td>\n",
       "    </tr>\n",
       "    <tr>\n",
       "      <th>7</th>\n",
       "      <td>V5</td>\n",
       "      <td>Частота пульса менее 80 уд/мин, бинарный</td>\n",
       "      <td>0.191557</td>\n",
       "      <td>9.800189e-02</td>\n",
       "      <td>False</td>\n",
       "    </tr>\n",
       "    <tr>\n",
       "      <th>8</th>\n",
       "      <td>V6</td>\n",
       "      <td>Частота пульса менее 100 уд/мин, бинарный</td>\n",
       "      <td>0.110791</td>\n",
       "      <td>6.022212e-01</td>\n",
       "      <td>False</td>\n",
       "    </tr>\n",
       "    <tr>\n",
       "      <th>9</th>\n",
       "      <td>V7</td>\n",
       "      <td>Лейкоциты крови ниже 8 тыс. ед., бинарный</td>\n",
       "      <td>0.505961</td>\n",
       "      <td>2.138459e-06</td>\n",
       "      <td>True</td>\n",
       "    </tr>\n",
       "    <tr>\n",
       "      <th>10</th>\n",
       "      <td>V8</td>\n",
       "      <td>Лейкоциты крови ниже 14 тыс. ед., бинарный</td>\n",
       "      <td>0.278930</td>\n",
       "      <td>1.471427e-02</td>\n",
       "      <td>True</td>\n",
       "    </tr>\n",
       "    <tr>\n",
       "      <th>11</th>\n",
       "      <td>V9</td>\n",
       "      <td>Язык обложен, бинарный</td>\n",
       "      <td>-0.462943</td>\n",
       "      <td>1.445243e-05</td>\n",
       "      <td>True</td>\n",
       "    </tr>\n",
       "  </tbody>\n",
       "</table>\n",
       "</div>"
      ],
      "text/plain": [
       "   feature                                        description  correlation  \\\n",
       "0      V12    Защитное мышечное напряжение выражено, бинарный    -0.601641   \n",
       "1      V10        Симптом Щеткина-Блюмберга выражен, бинарный    -0.651079   \n",
       "2      V11                 Симптом Ровзинга выражен, бинарный    -0.583957   \n",
       "3       V1  Выраженные боли в правой подвздошной области, ...    -0.550359   \n",
       "4       V2                      Боли более 48 часов, бинарный     0.461045   \n",
       "5       V3                      Боли более 24 часов, бинарный     0.574318   \n",
       "6       V4                      Боли более 12 часов, бинарный     0.261527   \n",
       "7       V5           Частота пульса менее 80 уд/мин, бинарный     0.191557   \n",
       "8       V6          Частота пульса менее 100 уд/мин, бинарный     0.110791   \n",
       "9       V7          Лейкоциты крови ниже 8 тыс. ед., бинарный     0.505961   \n",
       "10      V8         Лейкоциты крови ниже 14 тыс. ед., бинарный     0.278930   \n",
       "11      V9                             Язык обложен, бинарный    -0.462943   \n",
       "\n",
       "               p reject  \n",
       "0   2.583200e-08   True  \n",
       "1   2.247595e-09   True  \n",
       "2   5.128163e-08   True  \n",
       "3   2.153055e-07   True  \n",
       "4   1.974556e-05   True  \n",
       "5   7.106811e-08   True  \n",
       "6   1.966697e-02   True  \n",
       "7   9.800189e-02  False  \n",
       "8   6.022212e-01  False  \n",
       "9   2.138459e-06   True  \n",
       "10  1.471427e-02   True  \n",
       "11  1.445243e-05   True  "
      ]
     },
     "execution_count": 13,
     "metadata": {},
     "output_type": "execute_result"
    }
   ],
   "source": [
    "matthews_correlations"
   ]
  },
  {
   "cell_type": "markdown",
   "metadata": {
    "collapsed": true
   },
   "source": [
    "Проверка гипотезы отличия от нуля корреляции Мэтьюса, показала отличиее от нуля на всех признаках, кроме связанных с пульсом. Действительно, судя по гистограмме V5 признак ведет себя похоже для случаев отсутсвия аппендицита и аппендицита третьего типа. Гистограммы признака V6 в целом показывают схожую картину для всех случаев. "
   ]
  },
  {
   "cell_type": "markdown",
   "metadata": {},
   "source": [
    "Теперь рассмотрим способность признаков разделять виды аппендицита, с помощью коэффициента V Крамера."
   ]
  },
  {
   "cell_type": "code",
   "execution_count": 14,
   "metadata": {
    "collapsed": true
   },
   "outputs": [],
   "source": [
    "def cramer_V_appendix_features_coef(feature_name):\n",
    "    feature_true_and_type_1 = data.query(feature_name+' == 1 & Type == 1').shape[0]\n",
    "    feature_false_and_type_1 = data.query(feature_name+' == 0 & Type == 1').shape[0]\n",
    "    feature_true_and_type_2 = data.query(feature_name+' == 1 & Type == 2').shape[0]\n",
    "    feature_false_and_type_2 = data.query(feature_name+' == 0 & Type == 2').shape[0]\n",
    "    feature_true_and_type_3 = data.query(feature_name+' == 1 & Type == 3').shape[0]\n",
    "    feature_false_and_type_3 = data.query(feature_name+' == 0 & Type == 3').shape[0]\n",
    "    \n",
    "    chi2 = chi2_contingency([[feature_true_and_type_1,feature_true_and_type_2,feature_true_and_type_3],\n",
    "                      [feature_false_and_type_1,feature_false_and_type_2,feature_false_and_type_3]])\n",
    "    \n",
    "    V = np.sqrt(chi2[0]/(data.query('Type != 0').shape[0]))\n",
    "    return (V,chi2[1])"
   ]
  },
  {
   "cell_type": "code",
   "execution_count": 15,
   "metadata": {
    "collapsed": false
   },
   "outputs": [],
   "source": [
    "cramer_V = pd.DataFrame(columns=['feature','description','V','p'])\n",
    "for i,feature in enumerate(labels_description.items()[1:]):\n",
    "    (V,p) = cramer_V_appendix_features_coef(feature[0])\n",
    "    cramer_V.loc[i] = [feature[0],feature[1],V,p]\n",
    "reject, p_corrected, a1, a2 = multipletests(cramer_V.p, \n",
    "                                            alpha = 0.05, \n",
    "                                            method = 'fdr_bh') \n",
    "cramer_V['p'] = p_corrected\n",
    "cramer_V['reject'] = reject"
   ]
  },
  {
   "cell_type": "code",
   "execution_count": 16,
   "metadata": {
    "collapsed": false
   },
   "outputs": [
    {
     "data": {
      "text/html": [
       "<div>\n",
       "<table border=\"1\" class=\"dataframe\">\n",
       "  <thead>\n",
       "    <tr style=\"text-align: right;\">\n",
       "      <th></th>\n",
       "      <th>feature</th>\n",
       "      <th>description</th>\n",
       "      <th>V</th>\n",
       "      <th>p</th>\n",
       "      <th>reject</th>\n",
       "    </tr>\n",
       "  </thead>\n",
       "  <tbody>\n",
       "    <tr>\n",
       "      <th>0</th>\n",
       "      <td>V12</td>\n",
       "      <td>Защитное мышечное напряжение выражено, бинарный</td>\n",
       "      <td>0.399623</td>\n",
       "      <td>0.010929</td>\n",
       "      <td>True</td>\n",
       "    </tr>\n",
       "    <tr>\n",
       "      <th>1</th>\n",
       "      <td>V10</td>\n",
       "      <td>Симптом Щеткина-Блюмберга выражен, бинарный</td>\n",
       "      <td>0.196501</td>\n",
       "      <td>0.290105</td>\n",
       "      <td>False</td>\n",
       "    </tr>\n",
       "    <tr>\n",
       "      <th>2</th>\n",
       "      <td>V11</td>\n",
       "      <td>Симптом Ровзинга выражен, бинарный</td>\n",
       "      <td>0.053114</td>\n",
       "      <td>0.894551</td>\n",
       "      <td>False</td>\n",
       "    </tr>\n",
       "    <tr>\n",
       "      <th>3</th>\n",
       "      <td>V1</td>\n",
       "      <td>Выраженные боли в правой подвздошной области, ...</td>\n",
       "      <td>0.297220</td>\n",
       "      <td>0.052318</td>\n",
       "      <td>False</td>\n",
       "    </tr>\n",
       "    <tr>\n",
       "      <th>4</th>\n",
       "      <td>V2</td>\n",
       "      <td>Боли более 48 часов, бинарный</td>\n",
       "      <td>0.184147</td>\n",
       "      <td>0.314389</td>\n",
       "      <td>False</td>\n",
       "    </tr>\n",
       "    <tr>\n",
       "      <th>5</th>\n",
       "      <td>V3</td>\n",
       "      <td>Боли более 24 часов, бинарный</td>\n",
       "      <td>0.318082</td>\n",
       "      <td>0.044114</td>\n",
       "      <td>True</td>\n",
       "    </tr>\n",
       "    <tr>\n",
       "      <th>6</th>\n",
       "      <td>V4</td>\n",
       "      <td>Боли более 12 часов, бинарный</td>\n",
       "      <td>0.468912</td>\n",
       "      <td>0.002029</td>\n",
       "      <td>True</td>\n",
       "    </tr>\n",
       "    <tr>\n",
       "      <th>7</th>\n",
       "      <td>V5</td>\n",
       "      <td>Частота пульса менее 80 уд/мин, бинарный</td>\n",
       "      <td>0.323887</td>\n",
       "      <td>0.044114</td>\n",
       "      <td>True</td>\n",
       "    </tr>\n",
       "    <tr>\n",
       "      <th>8</th>\n",
       "      <td>V6</td>\n",
       "      <td>Частота пульса менее 100 уд/мин, бинарный</td>\n",
       "      <td>0.204555</td>\n",
       "      <td>0.287271</td>\n",
       "      <td>False</td>\n",
       "    </tr>\n",
       "    <tr>\n",
       "      <th>9</th>\n",
       "      <td>V7</td>\n",
       "      <td>Лейкоциты крови ниже 8 тыс. ед., бинарный</td>\n",
       "      <td>0.303136</td>\n",
       "      <td>0.052318</td>\n",
       "      <td>False</td>\n",
       "    </tr>\n",
       "    <tr>\n",
       "      <th>10</th>\n",
       "      <td>V8</td>\n",
       "      <td>Лейкоциты крови ниже 14 тыс. ед., бинарный</td>\n",
       "      <td>0.364400</td>\n",
       "      <td>0.021093</td>\n",
       "      <td>True</td>\n",
       "    </tr>\n",
       "    <tr>\n",
       "      <th>11</th>\n",
       "      <td>V9</td>\n",
       "      <td>Язык обложен, бинарный</td>\n",
       "      <td>0.150492</td>\n",
       "      <td>0.445934</td>\n",
       "      <td>False</td>\n",
       "    </tr>\n",
       "  </tbody>\n",
       "</table>\n",
       "</div>"
      ],
      "text/plain": [
       "   feature                                        description         V  \\\n",
       "0      V12    Защитное мышечное напряжение выражено, бинарный  0.399623   \n",
       "1      V10        Симптом Щеткина-Блюмберга выражен, бинарный  0.196501   \n",
       "2      V11                 Симптом Ровзинга выражен, бинарный  0.053114   \n",
       "3       V1  Выраженные боли в правой подвздошной области, ...  0.297220   \n",
       "4       V2                      Боли более 48 часов, бинарный  0.184147   \n",
       "5       V3                      Боли более 24 часов, бинарный  0.318082   \n",
       "6       V4                      Боли более 12 часов, бинарный  0.468912   \n",
       "7       V5           Частота пульса менее 80 уд/мин, бинарный  0.323887   \n",
       "8       V6          Частота пульса менее 100 уд/мин, бинарный  0.204555   \n",
       "9       V7          Лейкоциты крови ниже 8 тыс. ед., бинарный  0.303136   \n",
       "10      V8         Лейкоциты крови ниже 14 тыс. ед., бинарный  0.364400   \n",
       "11      V9                             Язык обложен, бинарный  0.150492   \n",
       "\n",
       "           p reject  \n",
       "0   0.010929   True  \n",
       "1   0.290105  False  \n",
       "2   0.894551  False  \n",
       "3   0.052318  False  \n",
       "4   0.314389  False  \n",
       "5   0.044114   True  \n",
       "6   0.002029   True  \n",
       "7   0.044114   True  \n",
       "8   0.287271  False  \n",
       "9   0.052318  False  \n",
       "10  0.021093   True  \n",
       "11  0.445934  False  "
      ]
     },
     "execution_count": 16,
     "metadata": {},
     "output_type": "execute_result"
    }
   ],
   "source": [
    "cramer_V"
   ]
  },
  {
   "cell_type": "markdown",
   "metadata": {},
   "source": [
    "Коэфициент крамера показывает информативность (наличие корреляции) между типом аппендицита и частотой пульса менее 80 уд/мин (V5). Однако не показывает сзязи между частотой пульса менее 100 уд/мин и типом аппендицита (V6). Признак V6 судя по корреляционному анализу не ифнормативен для определения наличия апендицита, а также его типа. Возможно его следует отбросить."
   ]
  },
  {
   "cell_type": "markdown",
   "metadata": {},
   "source": [
    "Для решения задачи многоклассововой классификации на бинарных признаках наиболее походят модели основанные на деревьях принятия решений. В данном случае не имеет смысл использовать сложную модель, т.к. при малом количестве данных высок риск переобучения. Я буду использовать случайный лес. Т.к. в задании неизвесны целевые показатели модели, я буду исползовать усредненный f1 score для оценки качества."
   ]
  },
  {
   "cell_type": "code",
   "execution_count": 17,
   "metadata": {
    "collapsed": false
   },
   "outputs": [],
   "source": [
    "from sklearn.ensemble import RandomForestClassifier\n",
    "from sklearn.metrics import confusion_matrix\n",
    "from sklearn.grid_search import GridSearchCV\n",
    "from sklearn.cross_validation import train_test_split"
   ]
  },
  {
   "cell_type": "code",
   "execution_count": 18,
   "metadata": {
    "collapsed": false
   },
   "outputs": [],
   "source": [
    "model = RandomForestClassifier(n_jobs=-1,oob_score = True)"
   ]
  },
  {
   "cell_type": "markdown",
   "metadata": {},
   "source": [
    "Оптимизируем гиперпараметры по сетке. Тестирование будет производится по 5-fold кросс валидации."
   ]
  },
  {
   "cell_type": "code",
   "execution_count": 19,
   "metadata": {
    "collapsed": false
   },
   "outputs": [],
   "source": [
    "param_grid = {\n",
    "    'n_estimators': range(10,210,50),\n",
    "    'max_features': ['sqrt','log2'],\n",
    "    'max_depth': range(3,21,3)\n",
    "}"
   ]
  },
  {
   "cell_type": "code",
   "execution_count": null,
   "metadata": {
    "collapsed": false
   },
   "outputs": [
    {
     "name": "stderr",
     "output_type": "stream",
     "text": [
      "/Users/abuca/MachineLearning/anaconda/lib/python2.7/site-packages/sklearn/ensemble/forest.py:403: UserWarning: Some inputs do not have OOB scores. This probably means too few trees were used to compute any reliable oob estimates.\n",
      "  warn(\"Some inputs do not have OOB scores. \"\n"
     ]
    },
    {
     "name": "stdout",
     "output_type": "stream",
     "text": [
      "Оптимальные параметры:  {'max_features': 'log2', 'n_estimators': 110, 'max_depth': 3}\n",
      "Лучший усредненный f1_score:  0.671026667507\n"
     ]
    }
   ],
   "source": [
    "cv_grid = GridSearchCV(estimator=model,param_grid=param_grid, cv= 5,scoring='f1_macro')\n",
    "cv_grid.fit(data.drop(['Type','V6'],axis=1),data['Type'])\n",
    "print 'Оптимальные параметры: ',cv_grid.best_params_\n",
    "print 'Лучший усредненный f1_score: ', cv_grid.best_score_\n",
    "model = cv_grid.best_estimator_"
   ]
  },
  {
   "cell_type": "markdown",
   "metadata": {},
   "source": [
    "Оптимальные параметры найдены. Постороим матрицу матрицу ошибок для классификатора с лучшими параметрами. Для этого обучим и протестируем его 100 раз на случайном подмножестве объектов."
   ]
  },
  {
   "cell_type": "code",
   "execution_count": null,
   "metadata": {
    "collapsed": false
   },
   "outputs": [],
   "source": [
    "cm = np.zeros([4,4],dtype=int)\n",
    "for i in xrange(1,100):\n",
    "    xtrain, xtest, ytrain, ytest = train_test_split(data.drop(['Type','V6'],axis=1), data['Type'], test_size=0.25,stratify=data['Type'])\n",
    "    model.fit(xtrain,ytrain)\n",
    "    ypred = model.predict(xtest)\n",
    "    cm += confusion_matrix(ytest,ypred)"
   ]
  },
  {
   "cell_type": "code",
   "execution_count": null,
   "metadata": {
    "collapsed": true
   },
   "outputs": [],
   "source": [
    "import itertools\n",
    "def plot_confusion_matrix(cm, classes,\n",
    "                          normalize=False,\n",
    "                          title='Confusion matrix',\n",
    "                          cmap=plt.cm.Blues):\n",
    "    \"\"\"\n",
    "    This function prints and plots the confusion matrix.\n",
    "    Normalization can be applied by setting `normalize=True`.\n",
    "    \"\"\"\n",
    "    plt.imshow(cm, interpolation='nearest', cmap=cmap)\n",
    "    plt.title(title)\n",
    "    plt.colorbar()\n",
    "    tick_marks = np.arange(len(classes))\n",
    "    plt.xticks(tick_marks, classes, rotation=45)\n",
    "    plt.yticks(tick_marks, classes)\n",
    "\n",
    "    if normalize:\n",
    "        cm = cm.astype('float') / cm.sum(axis=1)[:, np.newaxis]\n",
    "        print(\"Normalized confusion matrix\")\n",
    "    else:\n",
    "        print('Confusion matrix, without normalization')\n",
    "\n",
    "    print(cm)\n",
    "\n",
    "    thresh = cm.max() / 2.\n",
    "    for i, j in itertools.product(range(cm.shape[0]), range(cm.shape[1])):\n",
    "        plt.text(j, i, cm[i, j],\n",
    "                 horizontalalignment=\"center\",\n",
    "                 color=\"white\" if cm[i, j] > thresh else \"black\")\n",
    "\n",
    "    plt.tight_layout()\n",
    "    plt.ylabel('True label')\n",
    "    plt.xlabel('Predicted label')"
   ]
  },
  {
   "cell_type": "code",
   "execution_count": null,
   "metadata": {
    "collapsed": false
   },
   "outputs": [],
   "source": [
    "plot_confusion_matrix(cm,classes=['0','1','2','3'], normalize=False,title='Confusion matrix')"
   ]
  },
  {
   "cell_type": "markdown",
   "metadata": {},
   "source": [
    "Как видно для данной модели наиболее сложным является разделение флегмонозного и гангренозного типа аппендцита. Модель часто их путает. Следовательно дальнейшую работу следует направить на поиск признака хорошо разделающего эти классы. В предложенном датасете есть подобный признак, это боли более 48 часов. Однако возникает вопрос о его надежности, т.к. не понятный причины исчезновения болей у пациентов с флегмонозным типом аппендицита. Переделывать модель основываясь на необъяснимом признаке нелогично. Данная модель не всегда учитывает данный признак, т.к. лес строиться с использованием метода случайных подространств. Усложнять модель на малом количестве данных также нецелесообразно."
   ]
  }
 ],
 "metadata": {
  "kernelspec": {
   "display_name": "Python 2",
   "language": "python",
   "name": "python2"
  },
  "language_info": {
   "codemirror_mode": {
    "name": "ipython",
    "version": 2
   },
   "file_extension": ".py",
   "mimetype": "text/x-python",
   "name": "python",
   "nbconvert_exporter": "python",
   "pygments_lexer": "ipython2",
   "version": "2.7.11"
  }
 },
 "nbformat": 4,
 "nbformat_minor": 0
}
